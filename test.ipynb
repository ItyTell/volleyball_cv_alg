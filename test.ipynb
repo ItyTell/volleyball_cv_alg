{
 "cells": [
  {
   "cell_type": "code",
   "execution_count": 9,
   "metadata": {},
   "outputs": [],
   "source": [
    "import cv2\n",
    "from model import *\n",
    "from detect import *"
   ]
  },
  {
   "cell_type": "code",
   "execution_count": 14,
   "metadata": {},
   "outputs": [],
   "source": [
    "model = load_model('dataset/yolov3.cfg', \"dataset/yolov3.weights\")"
   ]
  },
  {
   "cell_type": "code",
   "execution_count": 15,
   "metadata": {},
   "outputs": [],
   "source": [
    "img = cv2.imread('dataset/test/volley-51-_png.rf.73e74eadfa77ff53d769279f73561040.jpg')\n",
    "img = cv2.cvtColor(img, cv2.COLOR_BGR2RGB)"
   ]
  },
  {
   "cell_type": "code",
   "execution_count": 16,
   "metadata": {},
   "outputs": [
    {
     "name": "stdout",
     "output_type": "stream",
     "text": [
      "[[324.91785    471.4717     380.76727    593.00256      0.99186856\n",
      "    0.        ]\n",
      " [600.41376    463.2613     635.6562     627.0618       0.97510374\n",
      "    0.        ]\n",
      " [205.09041    354.5581     273.91425    497.59485      0.97374356\n",
      "    0.        ]\n",
      " [499.14615    224.63321    525.9882     330.41174      0.9711335\n",
      "    0.        ]\n",
      " [297.84186    241.36615    325.54428    363.3          0.9355484\n",
      "    0.        ]\n",
      " [552.2327     296.06696    584.99255    402.6693       0.8999846\n",
      "    0.        ]\n",
      " [264.9513     205.7782     286.98605    279.979        0.8945052\n",
      "    0.        ]\n",
      " [386.87424    219.32555    407.0504     302.19836      0.86883736\n",
      "    0.        ]\n",
      " [461.89725    320.64447    491.1655     433.82928      0.8406424\n",
      "    0.        ]\n",
      " [368.5119     267.90958    397.88       386.61127      0.72747284\n",
      "    0.        ]\n",
      " [214.90784    287.40277    235.5029     365.02078      0.7268624\n",
      "    0.        ]\n",
      " [ 75.71053    307.0703     104.13161    373.20328      0.65650624\n",
      "    0.        ]]\n"
     ]
    }
   ],
   "source": [
    "boxes = detect_image(model, img)\n",
    "print(boxes)"
   ]
  },
  {
   "cell_type": "code",
   "execution_count": 17,
   "metadata": {},
   "outputs": [
    {
     "data": {
      "text/plain": [
       "12"
      ]
     },
     "execution_count": 17,
     "metadata": {},
     "output_type": "execute_result"
    }
   ],
   "source": [
    "len(boxes)"
   ]
  }
 ],
 "metadata": {
  "kernelspec": {
   "display_name": "base",
   "language": "python",
   "name": "python3"
  },
  "language_info": {
   "codemirror_mode": {
    "name": "ipython",
    "version": 3
   },
   "file_extension": ".py",
   "mimetype": "text/x-python",
   "name": "python",
   "nbconvert_exporter": "python",
   "pygments_lexer": "ipython3",
   "version": "3.12.2"
  }
 },
 "nbformat": 4,
 "nbformat_minor": 2
}
